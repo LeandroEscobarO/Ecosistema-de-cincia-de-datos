{
  "nbformat": 4,
  "nbformat_minor": 0,
  "metadata": {
    "colab": {
      "provenance": []
    },
    "kernelspec": {
      "name": "python3",
      "display_name": "Python 3"
    },
    "language_info": {
      "name": "python"
    }
  },
  "cells": [
    {
      "cell_type": "code",
      "execution_count": null,
      "metadata": {
        "id": "pv1pBPBJ-nXD"
      },
      "outputs": [],
      "source": []
    },
    {
      "cell_type": "markdown",
      "source": [
        "# Data Science Tools and Ecosystem"
      ],
      "metadata": {
        "id": "Kl1ILDm9_Fhd"
      }
    },
    {
      "cell_type": "markdown",
      "source": [
        "Primeros pasos para obtener el certificado de ciencia de datos"
      ],
      "metadata": {
        "id": "1VieRYxCAWNK"
      }
    },
    {
      "cell_type": "markdown",
      "source": [
        "**Objetivos:**\n",
        "\n",
        "- Lenguajes populares en ciencia de datos\n",
        "- Bibliotecas comunmente utilizadas en ciencia de datos\n",
        "- Ejemplos de aritmetica en Python\n",
        "- Convertir unidades (Minutos a horas)\n",
        "\n"
      ],
      "metadata": {
        "id": "y3WsBHMpH0xO"
      }
    },
    {
      "cell_type": "markdown",
      "source": [
        "Algunos de los Lenguajes mas populares en ciencia de datos son:\n",
        "\n",
        "\n",
        "1.   R\n",
        "2.   Python\n",
        "\n",
        "1.   SQL\n",
        "2.   Julia\n",
        "\n",
        "1.  Java\n",
        "\n",
        "\n",
        "\n",
        "\n"
      ],
      "metadata": {
        "id": "sM9TdtmUAxs9"
      }
    },
    {
      "cell_type": "markdown",
      "source": [
        "Algunas bibliotecas comunmente utilizadas en ciencia de datos son:\n",
        "\n",
        "1. Pandas\n",
        "2. NumPy\n",
        "3. Matplotlib\n",
        "4. Scikit-learn\n",
        "5. TensorFlow\n"
      ],
      "metadata": {
        "id": "yQ5NDaeuD_Bx"
      }
    },
    {
      "cell_type": "markdown",
      "source": [
        "| Data Science Tools     |\n",
        "|------------------------|\n",
        "| Jupyter Notebook       |\n",
        "| RStudio                |\n",
        "| Apache Zeppelin        |\n"
      ],
      "metadata": {
        "id": "7bdTtqE0EqhM"
      }
    },
    {
      "cell_type": "markdown",
      "source": [
        "### A continuacion se muestran algunos ejemplos de evaluacion de expresiones aritmeticas en Python"
      ],
      "metadata": {
        "id": "RzD5aLpOEtYY"
      }
    },
    {
      "cell_type": "code",
      "source": [
        "# Esta es una expresion aritmetica simple para multiplicar y luego sumar numeros enteros\n",
        "(3*4)+5"
      ],
      "metadata": {
        "colab": {
          "base_uri": "https://localhost:8080/"
        },
        "id": "K2cNxvXlF4OQ",
        "outputId": "47915538-b350-495e-b256-65158c09ec10"
      },
      "execution_count": 1,
      "outputs": [
        {
          "output_type": "execute_result",
          "data": {
            "text/plain": [
              "17"
            ]
          },
          "metadata": {},
          "execution_count": 1
        }
      ]
    },
    {
      "cell_type": "code",
      "source": [
        "# La siguente expresion servira para conocer cuantas horas son 200 minutos\n",
        "200/60"
      ],
      "metadata": {
        "colab": {
          "base_uri": "https://localhost:8080/"
        },
        "id": "P6CdMOu2GtCM",
        "outputId": "fe45f817-0264-4acd-de6d-f55e9a7a6b75"
      },
      "execution_count": 2,
      "outputs": [
        {
          "output_type": "execute_result",
          "data": {
            "text/plain": [
              "3.3333333333333335"
            ]
          },
          "metadata": {},
          "execution_count": 2
        }
      ]
    },
    {
      "cell_type": "markdown",
      "source": [
        "## Autor\n",
        "Leandro Escobar Ortiz\n"
      ],
      "metadata": {
        "id": "WPpDHaNQJVtm"
      }
    }
  ]
}